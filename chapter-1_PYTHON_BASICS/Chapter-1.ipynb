{
 "cells": [
  {
   "cell_type": "markdown",
   "id": "d1edbdcd-476e-474e-8884-07cdce76acdd",
   "metadata": {},
   "source": [
    "# Practice Questions"
   ]
  },
  {
   "cell_type": "markdown",
   "id": "127cd5ba-64f0-4b93-b8da-aa720d240f22",
   "metadata": {},
   "source": [
    "## Question 1\n",
    "Which of the following are operators, and which are values?\n",
    "\n",
    "*\n",
    "'hello'\n",
    "-88.8\n",
    "-\n",
    "/\n",
    "+\n",
    "5\n",
    "\n",
    "## Answer:\n",
    "Here 'hello', -88.8 and 5 is values and rest of it is operators.\n",
    "\n",
    "\"*\" it is call multiplayer\n",
    "\n",
    "\"-\" it is called subtrctor.\n",
    "\n",
    "\"/\" it is called divider\n",
    "\n",
    "\"+\" it is called adder."
   ]
  },
  {
   "cell_type": "markdown",
   "id": "f56a2bb7-2888-48f9-9310-1b85138b5f91",
   "metadata": {},
   "source": [
    "## Question 2\n",
    "Which of the following is a variable, and which is a string?\n",
    "\n",
    "spam\n",
    "\n",
    "'spam'\n",
    "\n",
    "## Answer:\n",
    "`spam` is the variable and `'spam'` is the string."
   ]
  },
  {
   "cell_type": "markdown",
   "id": "ec12b734-6dae-405d-9f02-2c1b3edd2ffd",
   "metadata": {},
   "source": [
    "## Question 3\n",
    "Name three data types.\n",
    "\n",
    "## Answer:"
   ]
  },
  {
   "cell_type": "markdown",
   "id": "f703b7a8-2588-47fe-b00c-3468071f2f78",
   "metadata": {},
   "source": [
    "## Question 4\n",
    "What is an expression made up of? What do all expressions do?\n",
    "\n",
    "## Answer:"
   ]
  },
  {
   "cell_type": "markdown",
   "id": "96b72ee2-ad00-4320-b7c4-cc29f94be0c0",
   "metadata": {},
   "source": [
    "## Question 5\n",
    "This chapter introduced assignment statements, like spam = 10. What is the difference between an expression and a statement?\n",
    "\n",
    "## Answer:\n"
   ]
  },
  {
   "cell_type": "markdown",
   "id": "6f778b98-9067-4f2d-9efb-2e3e257e76e0",
   "metadata": {},
   "source": [
    "## Question 6\n",
    "What does the variable bacon contain after the following code runs?\n",
    "\n",
    "bacon = 20\n",
    "\n",
    "bacon + 1\n",
    "\n",
    "## Answer:"
   ]
  },
  {
   "cell_type": "markdown",
   "id": "83b248f7-f0d5-4450-baf3-5a77ac5fe12b",
   "metadata": {},
   "source": [
    "## Question 7\n",
    "What should the following two expressions evaluate to?\n",
    "\n",
    "'spam' + 'spamspam'\n",
    "\n",
    "'spam' * 3\n",
    "\n",
    "## Answer:"
   ]
  },
  {
   "cell_type": "markdown",
   "id": "2813968e-cd7b-4921-9d59-d0d350073c55",
   "metadata": {},
   "source": [
    "## Question 8\n",
    "Why is eggs a valid variable name while 100 is invalid?\n",
    "\n",
    "## Answer:"
   ]
  },
  {
   "cell_type": "markdown",
   "id": "f98202de-6f5d-459e-bde4-be33c8e6637f",
   "metadata": {},
   "source": [
    "## Question 9\n",
    "\n",
    "What three functions can be used to get the integer, floating-point number, or string version of a value?\n",
    "\n",
    "## Answer:"
   ]
  },
  {
   "cell_type": "markdown",
   "id": "9016f9bc-c502-4904-87c6-61a1366a87f9",
   "metadata": {},
   "source": [
    "## Question 10\n",
    "\n",
    "Why does this expression cause an error? How can you fix it?\n",
    "\n",
    "'I have eaten ' + 99 + ' burritos.'\n",
    "\n",
    "## Answer:"
   ]
  },
  {
   "cell_type": "markdown",
   "id": "3e4c0ae0-a625-47ca-a962-54ceefd44ece",
   "metadata": {},
   "source": [
    "## Extra credit:\n",
    "\n",
    "Search online for the Python documentation for the len() function. It will be on a web page titled “Built-in Functions.” Skim the list of other functions Python has, look up what the round() function does, and experiment with it in the interactive shell.\n",
    "\n",
    "## Answer: \n",
    "\n"
   ]
  },
  {
   "cell_type": "code",
   "execution_count": null,
   "id": "53845189-8a13-43ac-9362-868120787166",
   "metadata": {},
   "outputs": [],
   "source": []
  }
 ],
 "metadata": {
  "kernelspec": {
   "display_name": "Python 3 (ipykernel)",
   "language": "python",
   "name": "python3"
  },
  "language_info": {
   "codemirror_mode": {
    "name": "ipython",
    "version": 3
   },
   "file_extension": ".py",
   "mimetype": "text/x-python",
   "name": "python",
   "nbconvert_exporter": "python",
   "pygments_lexer": "ipython3",
   "version": "3.11.9"
  }
 },
 "nbformat": 4,
 "nbformat_minor": 5
}
