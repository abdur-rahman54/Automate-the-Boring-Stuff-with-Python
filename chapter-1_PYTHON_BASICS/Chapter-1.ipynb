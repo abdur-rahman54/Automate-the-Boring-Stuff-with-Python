{
 "cells": [
  {
   "cell_type": "markdown",
   "id": "d1edbdcd-476e-474e-8884-07cdce76acdd",
   "metadata": {},
   "source": [
    "# Practice Questions"
   ]
  },
  {
   "cell_type": "markdown",
   "id": "127cd5ba-64f0-4b93-b8da-aa720d240f22",
   "metadata": {},
   "source": [
    "## Question 1\n",
    "Which of the following are operators, and which are values?\n",
    "\n",
    "`*`\n",
    "\n",
    "`'hello'`\n",
    "\n",
    "`-88.8`\n",
    "\n",
    "`-`\n",
    "\n",
    "`/`\n",
    "\n",
    "`+`\n",
    "\n",
    "`5`\n",
    "\n",
    "## Answer:\n",
    "Here's the classification:\n",
    "\n",
    "1. Operators:\n",
    "    - `*` (multiplication operator)\n",
    "    - `-` (subtraction operator)\n",
    "    - `/` (division operator)\n",
    "    - `+` (addition operator)\n",
    "\n",
    "2. Values:\n",
    "    - `'hello'` (string value)\n",
    "    - `-88.8` (floating-point number value)\n",
    "    - `5` (integer value)"
   ]
  },
  {
   "cell_type": "markdown",
   "id": "f56a2bb7-2888-48f9-9310-1b85138b5f91",
   "metadata": {},
   "source": [
    "## Question 2\n",
    "Which of the following is a variable, and which is a string?\n",
    "\n",
    "`spam`\n",
    "\n",
    "`'spam'`\n",
    "\n",
    "## Answer:\n",
    "### Variable:\n",
    "`spam` - This is a variable name. In Python, variable names are identifiers and are not enclosed in quotes.\n",
    "### String:\n",
    "`'spam'` - This is a string literal. In Python, strings are enclosed in single quotes (' ') or double quotes (\" \").\n"
   ]
  },
  {
   "cell_type": "markdown",
   "id": "ec12b734-6dae-405d-9f02-2c1b3edd2ffd",
   "metadata": {},
   "source": [
    "## Question 3\n",
    "Name three data types.\n",
    "\n",
    "## Answer:\n",
    "\n",
    "In Python, three common data types are:\n",
    "\n",
    "1. Integer (int):\n",
    "\n",
    "    Represents whole numbers without a fractional component.\n",
    "    Examples: 42, -7, 0\n",
    "\n",
    "2. Floating-point number (float):\n",
    "\n",
    "    Represents real numbers, including those with a fractional component.\n",
    "    Examples: 3.14, -0.001, 2.0\n",
    "\n",
    "3. String (str):\n",
    "\n",
    "    Represents sequences of characters.\n",
    "    Examples: \"hello\", 'Python', \"123\""
   ]
  },
  {
   "cell_type": "markdown",
   "id": "f703b7a8-2588-47fe-b00c-3468071f2f78",
   "metadata": {},
   "source": [
    "## Question 4\n",
    "What is an expression made up of? What do all expressions do?\n",
    "\n",
    "## Answer:\n",
    "An expression in Python is made up of one or more of the following components:\n",
    "\n",
    "1. Literals: Constant values such as numbers, strings, or other fixed values.\n",
    "\n",
    "    Examples: 42, 'hello', 3.14, True\n",
    "\n",
    "2. Variables: Names that represent values stored in memory.\n",
    "\n",
    "    Examples: x, y, name\n",
    "\n",
    "3. Operators: Symbols that perform operations on one or more operands (values or variables).\n",
    "\n",
    "    Examples: + (addition), - (subtraction), * (multiplication), / (division), == (equality comparison)\n",
    "\n",
    "4. Function Calls: Invocations of functions that return values.\n",
    "\n",
    "    Examples: len('hello'), sum([1, 2, 3]), max(5, 3)\n",
    "\n",
    "5. Parentheses: Used to group expressions and control the order of evaluation.\n",
    "\n",
    "    Examples: (2 + 3) * 4, max(1, (2 + 3))\n",
    "\n",
    "**Examples of Expressions:**\n",
    "- 2 + 3\n",
    "- x * y\n",
    "- 'spam' + 'eggs'\n",
    "- len(\"hello\")\n",
    "- 3 * (4 + 5)\n",
    "\n",
    "**What Do All Expressions Do?**\n",
    "\n",
    "All expressions, when evaluated, produce a value. This value is the result of the computation or operation specified by the expression. The evaluation of an expression does not inherently cause any other side effects (such as modifying a variable or printing to the console), though the functions within an expression might have side effects."
   ]
  },
  {
   "cell_type": "markdown",
   "id": "96b72ee2-ad00-4320-b7c4-cc29f94be0c0",
   "metadata": {},
   "source": [
    "## Question 5\n",
    "This chapter introduced assignment statements, like spam = 10. What is the difference between an expression and a statement?\n",
    "\n",
    "## Answer:\n",
    "In Python, expressions and statements serve different purposes and have distinct characteristics. Understanding the difference between them is crucial for writing effective code.\n",
    "\n",
    "### Expression\n",
    "An expression is a combination of values, variables, operators, and function calls that can be evaluated to produce a single value. Expressions return a value when evaluated.\n",
    "\n",
    "Examples of Expressions:\n",
    "1. `2 + 3` evaluates to 5\n",
    "2. `len(\"hello\")` evaluates to 5\n",
    "3. `x * 2` (if x is 4, it evaluates to 8)\n",
    "4. `'spam' + 'spamspam'` evaluates to 'spamspamspam'\n",
    "5. `3 * (4 + 5)` evaluates to 27\n",
    "In each case, the expression produces a value as a result of the evaluation.\n",
    "\n",
    "### Statement\n",
    "A statement is an instruction that the Python interpreter can execute. Statements perform an action but do not necessarily return a value. They may contain expressions within them.\n",
    "\n",
    "Examples of Statements:\n",
    "1. Assignment Statement: `x = 5`\n",
    "2. Print Statement: `print(\"Hello, world!\")`\n",
    "3. If Statement: \n",
    "\n",
    "   if x > 0:\n",
    "       \n",
    "       print(\"x is positive\")\n",
    "\n",
    "\n",
    "### Key Differences:\n",
    "**Purpose:**\n",
    "\n",
    "- An expression evaluates to a value.\n",
    "- A statement performs an action.\n",
    "\n",
    "\n",
    "**Return Value:**\n",
    "\n",
    "- Expressions always return a value.\n",
    "- Statements do not return a value; they simply execute an action.\n"
   ]
  },
  {
   "cell_type": "markdown",
   "id": "6f778b98-9067-4f2d-9efb-2e3e257e76e0",
   "metadata": {},
   "source": [
    "## Question 6\n",
    "What does the variable bacon contain after the following code runs?\n",
    "\n",
    "bacon = 20\n",
    "\n",
    "bacon + 1\n",
    "\n",
    "## Answer:\n",
    "The variable `bacon` will still contain the value 20 after the code runs. This is because the expression `bacon + 1` computes a new value (21) but does not change the value stored in `bacon`.\n",
    "\n",
    "Here is the step-by-step breakdown:\n",
    "\n",
    "- `bacon = 20`: This line assigns the value 20 to the variable `bacon`.\n",
    "- `bacon + 1`: This line computes the value 21 (20 + 1) but does not assign it back to `bacon`."
   ]
  },
  {
   "cell_type": "code",
   "execution_count": 3,
   "id": "53845189-8a13-43ac-9362-868120787166",
   "metadata": {},
   "outputs": [
    {
     "name": "stdout",
     "output_type": "stream",
     "text": [
      "20\n"
     ]
    }
   ],
   "source": [
    "# Testing the code\n",
    "bacon = 20\n",
    "\n",
    "bacon + 1\n",
    "print( bacon)\n"
   ]
  },
  {
   "cell_type": "markdown",
   "id": "83b248f7-f0d5-4450-baf3-5a77ac5fe12b",
   "metadata": {},
   "source": [
    "## Question 7\n",
    "What should the following two expressions evaluate to?\n",
    "\n",
    "'spam' + 'spamspam'\n",
    "\n",
    "'spam' * 3\n",
    "\n",
    "## Answer:\n",
    "The two expressions `'spam' + 'spamspam'` and `'spam' * 3` in Python both involve string concatenation and repetition, respectively. Let's evaluate each one:\n",
    "\n",
    "1. Expression: `'spam' + 'spamspam'`\n",
    "\n",
    "This uses the string concatenation operator (+), which joins two strings together.\n",
    "`'spam' + 'spamspam'` concatenates the string 'spam' with the string 'spamspam'.\n",
    "\n",
    "2. Expression: `'spam' * 3`\n",
    "\n",
    "This uses the string repetition operator (*), which repeats a string a specified number of times.\n",
    "`'spam' * 3` repeats the string 'spam' three times.\n"
   ]
  },
  {
   "cell_type": "code",
   "execution_count": 20,
   "id": "7cbacf99-ba5f-4221-bb25-f6c278b6bfb3",
   "metadata": {},
   "outputs": [
    {
     "name": "stdout",
     "output_type": "stream",
     "text": [
      "spamspamspam\n",
      "spamspamspam\n"
     ]
    }
   ],
   "source": [
    "print('spam' + 'spamspam')    # Results in 'spamspamspam'\n",
    " \n",
    "print('spam' * 3)    # Results in 'spamspamspam'"
   ]
  },
  {
   "cell_type": "markdown",
   "id": "2813968e-cd7b-4921-9d59-d0d350073c55",
   "metadata": {
    "jp-MarkdownHeadingCollapsed": true
   },
   "source": [
    "## Question 8\n",
    "Why is eggs a valid variable name while 100 is invalid?\n",
    "\n",
    "## Answer:\n",
    "In Python, variable names must adhere to specific rules, which determine whether a name is valid or invalid. The name eggs is a valid variable name, whereas 100 is not, due to the following reasons:\n",
    "\n",
    "1. Starting Character:\n",
    "\n",
    "    - Variable names must start with a letter (a-z, A-Z) or an underscore (_).\n",
    "\n",
    "    - They cannot start with a digit (0-9).\n",
    "\n",
    "    - `eggs` starts with a letter 'e', so it is valid.\n",
    "\n",
    "    - `100` starts with a digit '1', so it is invalid.\n",
    "\n",
    "2. Subsequent Characters:\n",
    "\n",
    "    - After the first character, variable names can include letters, digits, and underscores.\n",
    "\n",
    "    - While eggs includes only letters and is valid throughout, 100 fails at the initial digit requirement.\n",
    "\n",
    "3. Reserved Words:\n",
    "\n",
    "    Variable names cannot be any of the Python reserved words (such as `if`, `else`, `while`, `for`, etc.), though this rule does not specifically apply to the given example."
   ]
  },
  {
   "cell_type": "markdown",
   "id": "f98202de-6f5d-459e-bde4-be33c8e6637f",
   "metadata": {},
   "source": [
    "## Question 9\n",
    "\n",
    "What three functions can be used to get the integer, floating-point number, or string version of a value?\n",
    "\n",
    "## Answer:\n",
    "In Python, the three functions used to convert values to an integer, floating-point number, or string are:\n",
    "\n",
    "- `int()`: This function converts a value to an integer.\n",
    "- `float(`: This function converts a value to a floating-point number.\n",
    "- `str()`: This function converts a value to a string."
   ]
  },
  {
   "cell_type": "code",
   "execution_count": 6,
   "id": "8f209b68-0a8e-4a15-a26f-c603579754cc",
   "metadata": {},
   "outputs": [
    {
     "name": "stdout",
     "output_type": "stream",
     "text": [
      "42\n",
      "3.14\n",
      "42\n"
     ]
    }
   ],
   "source": [
    "# xaple of eatch funtion\n",
    "\n",
    "int_value = int(\"42\")  # Converts the string \"42\" to the integer 42\n",
    "float_value = float(\"3.14\")  # Converts the string \"3.14\" to the float 3.14\n",
    "str_value = str(42)  # Converts the integer 42 to the string \"42\"\n",
    "\n",
    "print(int_value)\n",
    "print(float_value)\n",
    "print(str_value)"
   ]
  },
  {
   "cell_type": "code",
   "execution_count": 17,
   "id": "a35b4c4e-35ea-4a13-8cae-ad9d0f9be5f3",
   "metadata": {},
   "outputs": [
    {
     "ename": "ValueError",
     "evalue": "invalid literal for int() with base 10: 'word'",
     "output_type": "error",
     "traceback": [
      "\u001b[0;31m---------------------------------------------------------------------------\u001b[0m",
      "\u001b[0;31mValueError\u001b[0m                                Traceback (most recent call last)",
      "Cell \u001b[0;32mIn[17], line 3\u001b[0m\n\u001b[1;32m      1\u001b[0m \u001b[38;5;66;03m# It only convert into integer when string contain Integer value\u001b[39;00m\n\u001b[0;32m----> 3\u001b[0m int_value \u001b[38;5;241m=\u001b[39m \u001b[38;5;28;43mint\u001b[39;49m\u001b[43m(\u001b[49m\u001b[38;5;124;43m\"\u001b[39;49m\u001b[38;5;124;43mword\u001b[39;49m\u001b[38;5;124;43m\"\u001b[39;49m\u001b[43m)\u001b[49m  \n",
      "\u001b[0;31mValueError\u001b[0m: invalid literal for int() with base 10: 'word'"
     ]
    }
   ],
   "source": [
    "# It only convert into integer when string contain Integer value\n",
    "\n",
    "int_value = int(\"word\")  \n"
   ]
  },
  {
   "cell_type": "code",
   "execution_count": 18,
   "id": "536e0681-9426-4ce0-9e66-25ad7d426cc2",
   "metadata": {},
   "outputs": [
    {
     "ename": "ValueError",
     "evalue": "could not convert string to float: 'word'",
     "output_type": "error",
     "traceback": [
      "\u001b[0;31m---------------------------------------------------------------------------\u001b[0m",
      "\u001b[0;31mValueError\u001b[0m                                Traceback (most recent call last)",
      "Cell \u001b[0;32mIn[18], line 3\u001b[0m\n\u001b[1;32m      1\u001b[0m \u001b[38;5;66;03m# It only convert into integer when string contain numric value\u001b[39;00m\n\u001b[0;32m----> 3\u001b[0m float_value \u001b[38;5;241m=\u001b[39m \u001b[38;5;28;43mfloat\u001b[39;49m\u001b[43m(\u001b[49m\u001b[38;5;124;43m\"\u001b[39;49m\u001b[38;5;124;43mword\u001b[39;49m\u001b[38;5;124;43m\"\u001b[39;49m\u001b[43m)\u001b[49m\n",
      "\u001b[0;31mValueError\u001b[0m: could not convert string to float: 'word'"
     ]
    }
   ],
   "source": [
    "# It only convert into integer when string contain numric value\n",
    "\n",
    "float_value = float(\"word\")\n"
   ]
  },
  {
   "cell_type": "markdown",
   "id": "9016f9bc-c502-4904-87c6-61a1366a87f9",
   "metadata": {},
   "source": [
    "## Question 10\n",
    "\n",
    "Why does this expression cause an error? How can you fix it?\n",
    "\n",
    "'I have eaten ' + 99 + ' burritos.'\n",
    "\n",
    "## Answer:\n",
    "\n",
    "The expression `'I have eaten ' + 99 + ' burritos.'` causes an error because it attempts to concatenate a string (`'I have eaten '`) with an integer (`99`) and another string (`' burritos.'`). In Python, you cannot concatenate strings with integers directly.\n",
    "\n",
    "To fix this error, it need to convert the integer to a string before concatenating it with other strings. it can be done by using the `str()` function:\n",
    "\n",
    "`'I have eaten ' + str(99) + ' burritos.'`\n",
    "\n",
    "This converts the integer 99 to the string '99', allowing the entire expression to be concatenated correctly."
   ]
  },
  {
   "cell_type": "markdown",
   "id": "3e4c0ae0-a625-47ca-a962-54ceefd44ece",
   "metadata": {},
   "source": [
    "## Extra credit:\n",
    "\n",
    "Search online for the Python documentation for the len() function. It will be on a web page titled “Built-in Functions.” Skim the list of other functions Python has, look up what the round() function does, and experiment with it in the interactive shell.\n",
    "\n",
    "## Answer: \n",
    "\n",
    "### `len()` Function\n",
    "The len() function in Python is used to determine the length (the number of items) of an object. The object can be a sequence (such as a string, list, tuple) or a collection (such as a dictionary, set).\n",
    "\n",
    "Examples:\n",
    "1. String:\n",
    "   - len(\"hello\")  # Returns 5\n",
    "2. List:\n",
    "   - len([1, 2, 3, 4])  # Returns 4\n",
    "3. Dictionary:\n",
    "   - len({'a': 1, 'b': 2})  # Returns 2\n",
    "\n",
    "### `round()` Function\n",
    "\n",
    "The round() function in Python is used to round a floating-point number to a specified number of decimal places. If the number of decimal places is not specified, it defaults to rounding to the nearest integer.\n",
    "\n",
    "**Examples:**\n",
    "\n",
    "1. Rounding to Nearest Integer:\n",
    "   - round(3.14159)  # Returns 3\n",
    "2. Rounding to Specific Decimal Places:\n",
    "   - round(3.14159, 2)  # Returns 3.14\n",
    "   - round(2.71828, 3)  # Returns 2.718\n"
   ]
  }
 ],
 "metadata": {
  "kernelspec": {
   "display_name": "Python 3 (ipykernel)",
   "language": "python",
   "name": "python3"
  },
  "language_info": {
   "codemirror_mode": {
    "name": "ipython",
    "version": 3
   },
   "file_extension": ".py",
   "mimetype": "text/x-python",
   "name": "python",
   "nbconvert_exporter": "python",
   "pygments_lexer": "ipython3",
   "version": "3.11.9"
  }
 },
 "nbformat": 4,
 "nbformat_minor": 5
}
